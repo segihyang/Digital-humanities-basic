{
 "cells": [
  {
   "cell_type": "code",
   "execution_count": 1,
   "id": "515004c3-d0bb-4aeb-80da-cb96238d5329",
   "metadata": {},
   "outputs": [],
   "source": [
    "import pandas as pd"
   ]
  },
  {
   "cell_type": "code",
   "execution_count": 2,
   "id": "1b6f32c8-590c-44b6-b92a-2680a1146f16",
   "metadata": {},
   "outputs": [],
   "source": [
    "saram = pd.DataFrame({'이름':['김상봉','이인자','박상남'], '성별':['남','여','남'],'나이':[56,34,70],'키':[171,156,163],'몸무게':[78,45,65]})\n"
   ]
  },
  {
   "cell_type": "code",
   "execution_count": 3,
   "id": "9782a779-5471-4363-a560-eb27c2e6fc79",
   "metadata": {},
   "outputs": [
    {
     "data": {
      "text/html": [
       "<div>\n",
       "<style scoped>\n",
       "    .dataframe tbody tr th:only-of-type {\n",
       "        vertical-align: middle;\n",
       "    }\n",
       "\n",
       "    .dataframe tbody tr th {\n",
       "        vertical-align: top;\n",
       "    }\n",
       "\n",
       "    .dataframe thead th {\n",
       "        text-align: right;\n",
       "    }\n",
       "</style>\n",
       "<table border=\"1\" class=\"dataframe\">\n",
       "  <thead>\n",
       "    <tr style=\"text-align: right;\">\n",
       "      <th></th>\n",
       "      <th>이름</th>\n",
       "      <th>성별</th>\n",
       "      <th>나이</th>\n",
       "      <th>키</th>\n",
       "      <th>몸무게</th>\n",
       "    </tr>\n",
       "  </thead>\n",
       "  <tbody>\n",
       "    <tr>\n",
       "      <th>0</th>\n",
       "      <td>김상봉</td>\n",
       "      <td>남</td>\n",
       "      <td>56</td>\n",
       "      <td>171</td>\n",
       "      <td>78</td>\n",
       "    </tr>\n",
       "    <tr>\n",
       "      <th>1</th>\n",
       "      <td>이인자</td>\n",
       "      <td>여</td>\n",
       "      <td>34</td>\n",
       "      <td>156</td>\n",
       "      <td>45</td>\n",
       "    </tr>\n",
       "    <tr>\n",
       "      <th>2</th>\n",
       "      <td>박상남</td>\n",
       "      <td>남</td>\n",
       "      <td>70</td>\n",
       "      <td>163</td>\n",
       "      <td>65</td>\n",
       "    </tr>\n",
       "  </tbody>\n",
       "</table>\n",
       "</div>"
      ],
      "text/plain": [
       "    이름 성별  나이    키  몸무게\n",
       "0  김상봉  남  56  171   78\n",
       "1  이인자  여  34  156   45\n",
       "2  박상남  남  70  163   65"
      ]
     },
     "execution_count": 3,
     "metadata": {},
     "output_type": "execute_result"
    }
   ],
   "source": [
    "saram"
   ]
  },
  {
   "cell_type": "code",
   "execution_count": 4,
   "id": "ea6b5d7c-09e1-4a2e-9459-17fb83dae0b5",
   "metadata": {},
   "outputs": [
    {
     "data": {
      "text/plain": [
       "0    김상봉\n",
       "1    이인자\n",
       "2    박상남\n",
       "Name: 이름, dtype: object"
      ]
     },
     "execution_count": 4,
     "metadata": {},
     "output_type": "execute_result"
    }
   ],
   "source": [
    "saram['이름']"
   ]
  },
  {
   "cell_type": "code",
   "execution_count": 5,
   "id": "00bc6263-6149-4ac7-bb28-5eef8fb98675",
   "metadata": {},
   "outputs": [
    {
     "data": {
      "text/plain": [
       "490"
      ]
     },
     "execution_count": 5,
     "metadata": {},
     "output_type": "execute_result"
    }
   ],
   "source": [
    "sum(saram['키'])"
   ]
  },
  {
   "cell_type": "code",
   "execution_count": 6,
   "id": "7c97ce87-0195-45af-9d8a-1335231f2bf8",
   "metadata": {},
   "outputs": [],
   "source": [
    "test=pd.read_excel('ccc.xlsx')"
   ]
  },
  {
   "cell_type": "code",
   "execution_count": 7,
   "id": "bc0deab9-eeaf-45ba-9be7-40cff786e962",
   "metadata": {},
   "outputs": [
    {
     "data": {
      "text/html": [
       "<div>\n",
       "<style scoped>\n",
       "    .dataframe tbody tr th:only-of-type {\n",
       "        vertical-align: middle;\n",
       "    }\n",
       "\n",
       "    .dataframe tbody tr th {\n",
       "        vertical-align: top;\n",
       "    }\n",
       "\n",
       "    .dataframe thead th {\n",
       "        text-align: right;\n",
       "    }\n",
       "</style>\n",
       "<table border=\"1\" class=\"dataframe\">\n",
       "  <thead>\n",
       "    <tr style=\"text-align: right;\">\n",
       "      <th></th>\n",
       "      <th>연번</th>\n",
       "      <th>판매소명</th>\n",
       "      <th>사업장 주소</th>\n",
       "    </tr>\n",
       "  </thead>\n",
       "  <tbody>\n",
       "    <tr>\n",
       "      <th>0</th>\n",
       "      <td>1</td>\n",
       "      <td>형제슈퍼</td>\n",
       "      <td>완산구 전라감영3길 12-5(중앙동 2가 44-6)</td>\n",
       "    </tr>\n",
       "    <tr>\n",
       "      <th>1</th>\n",
       "      <td>2</td>\n",
       "      <td>금성쌀집</td>\n",
       "      <td>완산구 고사동 133-2(시내신포만두옆골목)</td>\n",
       "    </tr>\n",
       "    <tr>\n",
       "      <th>2</th>\n",
       "      <td>3</td>\n",
       "      <td>조흥슈퍼</td>\n",
       "      <td>완산구 문화광장로 1(고사동 7-1)</td>\n",
       "    </tr>\n",
       "    <tr>\n",
       "      <th>3</th>\n",
       "      <td>4</td>\n",
       "      <td>부부슈퍼</td>\n",
       "      <td>완산구 전주객사3길 75 (고사동 321-8)</td>\n",
       "    </tr>\n",
       "    <tr>\n",
       "      <th>4</th>\n",
       "      <td>5</td>\n",
       "      <td>GS25(전주중앙점)</td>\n",
       "      <td>완산구 전주객사4길 47 (고사동 155-3)</td>\n",
       "    </tr>\n",
       "    <tr>\n",
       "      <th>...</th>\n",
       "      <td>...</td>\n",
       "      <td>...</td>\n",
       "      <td>...</td>\n",
       "    </tr>\n",
       "    <tr>\n",
       "      <th>1915</th>\n",
       "      <td>1916</td>\n",
       "      <td>제이유마트</td>\n",
       "      <td>완산구 기린대로 233-32(서노송동 648-4)</td>\n",
       "    </tr>\n",
       "    <tr>\n",
       "      <th>1916</th>\n",
       "      <td>1917</td>\n",
       "      <td>광주철물건재</td>\n",
       "      <td>완산구 반촌로24(서노송동741-9)</td>\n",
       "    </tr>\n",
       "    <tr>\n",
       "      <th>1917</th>\n",
       "      <td>1918</td>\n",
       "      <td>코리아세븐(전주서노송점)</td>\n",
       "      <td>완산구 현무3길 80(서노송동 568-137)</td>\n",
       "    </tr>\n",
       "    <tr>\n",
       "      <th>1918</th>\n",
       "      <td>1919</td>\n",
       "      <td>GS25전주열린병원점</td>\n",
       "      <td>기린대로 233-32(서노송동 648-4)</td>\n",
       "    </tr>\n",
       "    <tr>\n",
       "      <th>1919</th>\n",
       "      <td>1920</td>\n",
       "      <td>CU전주뉴타운점</td>\n",
       "      <td>기린대로 223(서노송동 568-88)</td>\n",
       "    </tr>\n",
       "  </tbody>\n",
       "</table>\n",
       "<p>1920 rows × 3 columns</p>\n",
       "</div>"
      ],
      "text/plain": [
       "        연번          판매소명                         사업장 주소\n",
       "0        1           형제슈퍼  완산구 전라감영3길 12-5(중앙동 2가 44-6)\n",
       "1        2           금성쌀집      완산구 고사동 133-2(시내신포만두옆골목)\n",
       "2        3           조흥슈퍼          완산구 문화광장로 1(고사동 7-1)\n",
       "3        4           부부슈퍼     완산구 전주객사3길 75 (고사동 321-8)\n",
       "4        5    GS25(전주중앙점)     완산구 전주객사4길 47 (고사동 155-3)\n",
       "...    ...            ...                           ...\n",
       "1915  1916          제이유마트   완산구 기린대로 233-32(서노송동 648-4)\n",
       "1916  1917         광주철물건재          완산구 반촌로24(서노송동741-9)\n",
       "1917  1918  코리아세븐(전주서노송점)     완산구 현무3길 80(서노송동 568-137)\n",
       "1918  1919    GS25전주열린병원점       기린대로 233-32(서노송동 648-4)\n",
       "1919  1920       CU전주뉴타운점         기린대로 223(서노송동 568-88)\n",
       "\n",
       "[1920 rows x 3 columns]"
      ]
     },
     "execution_count": 7,
     "metadata": {},
     "output_type": "execute_result"
    }
   ],
   "source": [
    "test"
   ]
  },
  {
   "cell_type": "code",
   "execution_count": 9,
   "id": "e06f558c-bef5-4627-909e-876dbc9ec554",
   "metadata": {},
   "outputs": [
    {
     "data": {
      "text/html": [
       "<div>\n",
       "<style scoped>\n",
       "    .dataframe tbody tr th:only-of-type {\n",
       "        vertical-align: middle;\n",
       "    }\n",
       "\n",
       "    .dataframe tbody tr th {\n",
       "        vertical-align: top;\n",
       "    }\n",
       "\n",
       "    .dataframe thead th {\n",
       "        text-align: right;\n",
       "    }\n",
       "</style>\n",
       "<table border=\"1\" class=\"dataframe\">\n",
       "  <thead>\n",
       "    <tr style=\"text-align: right;\">\n",
       "      <th></th>\n",
       "      <th>연번</th>\n",
       "      <th>판매소명</th>\n",
       "      <th>사업장 주소</th>\n",
       "    </tr>\n",
       "  </thead>\n",
       "  <tbody>\n",
       "    <tr>\n",
       "      <th>0</th>\n",
       "      <td>1</td>\n",
       "      <td>형제슈퍼</td>\n",
       "      <td>완산구 전라감영3길 12-5(중앙동 2가 44-6)</td>\n",
       "    </tr>\n",
       "    <tr>\n",
       "      <th>1</th>\n",
       "      <td>2</td>\n",
       "      <td>금성쌀집</td>\n",
       "      <td>완산구 고사동 133-2(시내신포만두옆골목)</td>\n",
       "    </tr>\n",
       "    <tr>\n",
       "      <th>2</th>\n",
       "      <td>3</td>\n",
       "      <td>조흥슈퍼</td>\n",
       "      <td>완산구 문화광장로 1(고사동 7-1)</td>\n",
       "    </tr>\n",
       "    <tr>\n",
       "      <th>3</th>\n",
       "      <td>4</td>\n",
       "      <td>부부슈퍼</td>\n",
       "      <td>완산구 전주객사3길 75 (고사동 321-8)</td>\n",
       "    </tr>\n",
       "    <tr>\n",
       "      <th>4</th>\n",
       "      <td>5</td>\n",
       "      <td>GS25(전주중앙점)</td>\n",
       "      <td>완산구 전주객사4길 47 (고사동 155-3)</td>\n",
       "    </tr>\n",
       "  </tbody>\n",
       "</table>\n",
       "</div>"
      ],
      "text/plain": [
       "   연번        판매소명                         사업장 주소\n",
       "0   1         형제슈퍼  완산구 전라감영3길 12-5(중앙동 2가 44-6)\n",
       "1   2         금성쌀집      완산구 고사동 133-2(시내신포만두옆골목)\n",
       "2   3         조흥슈퍼          완산구 문화광장로 1(고사동 7-1)\n",
       "3   4         부부슈퍼     완산구 전주객사3길 75 (고사동 321-8)\n",
       "4   5  GS25(전주중앙점)     완산구 전주객사4길 47 (고사동 155-3)"
      ]
     },
     "execution_count": 9,
     "metadata": {},
     "output_type": "execute_result"
    }
   ],
   "source": [
    "test.head()"
   ]
  },
  {
   "cell_type": "code",
   "execution_count": 10,
   "id": "bc4d2320-eafb-4e0c-9e23-6992e5ac576b",
   "metadata": {},
   "outputs": [
    {
     "data": {
      "text/html": [
       "<div>\n",
       "<style scoped>\n",
       "    .dataframe tbody tr th:only-of-type {\n",
       "        vertical-align: middle;\n",
       "    }\n",
       "\n",
       "    .dataframe tbody tr th {\n",
       "        vertical-align: top;\n",
       "    }\n",
       "\n",
       "    .dataframe thead th {\n",
       "        text-align: right;\n",
       "    }\n",
       "</style>\n",
       "<table border=\"1\" class=\"dataframe\">\n",
       "  <thead>\n",
       "    <tr style=\"text-align: right;\">\n",
       "      <th></th>\n",
       "      <th>연번</th>\n",
       "      <th>판매소명</th>\n",
       "      <th>사업장 주소</th>\n",
       "    </tr>\n",
       "  </thead>\n",
       "  <tbody>\n",
       "    <tr>\n",
       "      <th>1915</th>\n",
       "      <td>1916</td>\n",
       "      <td>제이유마트</td>\n",
       "      <td>완산구 기린대로 233-32(서노송동 648-4)</td>\n",
       "    </tr>\n",
       "    <tr>\n",
       "      <th>1916</th>\n",
       "      <td>1917</td>\n",
       "      <td>광주철물건재</td>\n",
       "      <td>완산구 반촌로24(서노송동741-9)</td>\n",
       "    </tr>\n",
       "    <tr>\n",
       "      <th>1917</th>\n",
       "      <td>1918</td>\n",
       "      <td>코리아세븐(전주서노송점)</td>\n",
       "      <td>완산구 현무3길 80(서노송동 568-137)</td>\n",
       "    </tr>\n",
       "    <tr>\n",
       "      <th>1918</th>\n",
       "      <td>1919</td>\n",
       "      <td>GS25전주열린병원점</td>\n",
       "      <td>기린대로 233-32(서노송동 648-4)</td>\n",
       "    </tr>\n",
       "    <tr>\n",
       "      <th>1919</th>\n",
       "      <td>1920</td>\n",
       "      <td>CU전주뉴타운점</td>\n",
       "      <td>기린대로 223(서노송동 568-88)</td>\n",
       "    </tr>\n",
       "  </tbody>\n",
       "</table>\n",
       "</div>"
      ],
      "text/plain": [
       "        연번          판매소명                        사업장 주소\n",
       "1915  1916          제이유마트  완산구 기린대로 233-32(서노송동 648-4)\n",
       "1916  1917         광주철물건재         완산구 반촌로24(서노송동741-9)\n",
       "1917  1918  코리아세븐(전주서노송점)    완산구 현무3길 80(서노송동 568-137)\n",
       "1918  1919    GS25전주열린병원점      기린대로 233-32(서노송동 648-4)\n",
       "1919  1920       CU전주뉴타운점        기린대로 223(서노송동 568-88)"
      ]
     },
     "execution_count": 10,
     "metadata": {},
     "output_type": "execute_result"
    }
   ],
   "source": [
    "test.tail()"
   ]
  },
  {
   "cell_type": "code",
   "execution_count": 11,
   "id": "5ecc1236-15ca-46d6-bc5a-3de5bb28d7a8",
   "metadata": {},
   "outputs": [
    {
     "data": {
      "text/plain": [
       "(1920, 3)"
      ]
     },
     "execution_count": 11,
     "metadata": {},
     "output_type": "execute_result"
    }
   ],
   "source": [
    "test.shape"
   ]
  },
  {
   "cell_type": "code",
   "execution_count": 12,
   "id": "8af32520-16eb-43e5-83f3-be339470cc5f",
   "metadata": {},
   "outputs": [
    {
     "name": "stdout",
     "output_type": "stream",
     "text": [
      "<class 'pandas.core.frame.DataFrame'>\n",
      "RangeIndex: 1920 entries, 0 to 1919\n",
      "Data columns (total 3 columns):\n",
      " #   Column  Non-Null Count  Dtype \n",
      "---  ------  --------------  ----- \n",
      " 0   연번      1920 non-null   int64 \n",
      " 1   판매소명    1920 non-null   object\n",
      " 2   사업장 주소  1920 non-null   object\n",
      "dtypes: int64(1), object(2)\n",
      "memory usage: 45.1+ KB\n"
     ]
    }
   ],
   "source": [
    "test.info()"
   ]
  },
  {
   "cell_type": "code",
   "execution_count": 13,
   "id": "9b73e421-9918-45f3-9bf0-9f073a2f1cf5",
   "metadata": {},
   "outputs": [
    {
     "name": "stdout",
     "output_type": "stream",
     "text": [
      "<class 'pandas.core.frame.DataFrame'>\n",
      "RangeIndex: 3 entries, 0 to 2\n",
      "Data columns (total 5 columns):\n",
      " #   Column  Non-Null Count  Dtype \n",
      "---  ------  --------------  ----- \n",
      " 0   이름      3 non-null      object\n",
      " 1   성별      3 non-null      object\n",
      " 2   나이      3 non-null      int64 \n",
      " 3   키       3 non-null      int64 \n",
      " 4   몸무게     3 non-null      int64 \n",
      "dtypes: int64(3), object(2)\n",
      "memory usage: 248.0+ bytes\n"
     ]
    }
   ],
   "source": [
    "saram.info()"
   ]
  },
  {
   "cell_type": "code",
   "execution_count": 14,
   "id": "9ece85d2-354d-43e3-b280-10d3263d67ba",
   "metadata": {},
   "outputs": [
    {
     "data": {
      "text/html": [
       "<div>\n",
       "<style scoped>\n",
       "    .dataframe tbody tr th:only-of-type {\n",
       "        vertical-align: middle;\n",
       "    }\n",
       "\n",
       "    .dataframe tbody tr th {\n",
       "        vertical-align: top;\n",
       "    }\n",
       "\n",
       "    .dataframe thead th {\n",
       "        text-align: right;\n",
       "    }\n",
       "</style>\n",
       "<table border=\"1\" class=\"dataframe\">\n",
       "  <thead>\n",
       "    <tr style=\"text-align: right;\">\n",
       "      <th></th>\n",
       "      <th>나이</th>\n",
       "      <th>키</th>\n",
       "      <th>몸무게</th>\n",
       "    </tr>\n",
       "  </thead>\n",
       "  <tbody>\n",
       "    <tr>\n",
       "      <th>count</th>\n",
       "      <td>3.000000</td>\n",
       "      <td>3.000000</td>\n",
       "      <td>3.000000</td>\n",
       "    </tr>\n",
       "    <tr>\n",
       "      <th>mean</th>\n",
       "      <td>53.333333</td>\n",
       "      <td>163.333333</td>\n",
       "      <td>62.666667</td>\n",
       "    </tr>\n",
       "    <tr>\n",
       "      <th>std</th>\n",
       "      <td>18.147543</td>\n",
       "      <td>7.505553</td>\n",
       "      <td>16.623277</td>\n",
       "    </tr>\n",
       "    <tr>\n",
       "      <th>min</th>\n",
       "      <td>34.000000</td>\n",
       "      <td>156.000000</td>\n",
       "      <td>45.000000</td>\n",
       "    </tr>\n",
       "    <tr>\n",
       "      <th>25%</th>\n",
       "      <td>45.000000</td>\n",
       "      <td>159.500000</td>\n",
       "      <td>55.000000</td>\n",
       "    </tr>\n",
       "    <tr>\n",
       "      <th>50%</th>\n",
       "      <td>56.000000</td>\n",
       "      <td>163.000000</td>\n",
       "      <td>65.000000</td>\n",
       "    </tr>\n",
       "    <tr>\n",
       "      <th>75%</th>\n",
       "      <td>63.000000</td>\n",
       "      <td>167.000000</td>\n",
       "      <td>71.500000</td>\n",
       "    </tr>\n",
       "    <tr>\n",
       "      <th>max</th>\n",
       "      <td>70.000000</td>\n",
       "      <td>171.000000</td>\n",
       "      <td>78.000000</td>\n",
       "    </tr>\n",
       "  </tbody>\n",
       "</table>\n",
       "</div>"
      ],
      "text/plain": [
       "              나이           키        몸무게\n",
       "count   3.000000    3.000000   3.000000\n",
       "mean   53.333333  163.333333  62.666667\n",
       "std    18.147543    7.505553  16.623277\n",
       "min    34.000000  156.000000  45.000000\n",
       "25%    45.000000  159.500000  55.000000\n",
       "50%    56.000000  163.000000  65.000000\n",
       "75%    63.000000  167.000000  71.500000\n",
       "max    70.000000  171.000000  78.000000"
      ]
     },
     "execution_count": 14,
     "metadata": {},
     "output_type": "execute_result"
    }
   ],
   "source": [
    "saram.describe()"
   ]
  },
  {
   "cell_type": "code",
   "execution_count": 15,
   "id": "34d9e79d-c76a-4961-b02b-1457227df7d7",
   "metadata": {},
   "outputs": [
    {
     "data": {
      "text/html": [
       "<div>\n",
       "<style scoped>\n",
       "    .dataframe tbody tr th:only-of-type {\n",
       "        vertical-align: middle;\n",
       "    }\n",
       "\n",
       "    .dataframe tbody tr th {\n",
       "        vertical-align: top;\n",
       "    }\n",
       "\n",
       "    .dataframe thead th {\n",
       "        text-align: right;\n",
       "    }\n",
       "</style>\n",
       "<table border=\"1\" class=\"dataframe\">\n",
       "  <thead>\n",
       "    <tr style=\"text-align: right;\">\n",
       "      <th></th>\n",
       "      <th>이름</th>\n",
       "      <th>성별</th>\n",
       "      <th>나이</th>\n",
       "      <th>키</th>\n",
       "      <th>몸무게</th>\n",
       "    </tr>\n",
       "  </thead>\n",
       "  <tbody>\n",
       "    <tr>\n",
       "      <th>0</th>\n",
       "      <td>김상봉</td>\n",
       "      <td>남</td>\n",
       "      <td>56</td>\n",
       "      <td>171</td>\n",
       "      <td>78</td>\n",
       "    </tr>\n",
       "    <tr>\n",
       "      <th>1</th>\n",
       "      <td>이인자</td>\n",
       "      <td>여</td>\n",
       "      <td>34</td>\n",
       "      <td>156</td>\n",
       "      <td>45</td>\n",
       "    </tr>\n",
       "    <tr>\n",
       "      <th>2</th>\n",
       "      <td>박상남</td>\n",
       "      <td>남</td>\n",
       "      <td>70</td>\n",
       "      <td>163</td>\n",
       "      <td>65</td>\n",
       "    </tr>\n",
       "  </tbody>\n",
       "</table>\n",
       "</div>"
      ],
      "text/plain": [
       "    이름 성별  나이    키  몸무게\n",
       "0  김상봉  남  56  171   78\n",
       "1  이인자  여  34  156   45\n",
       "2  박상남  남  70  163   65"
      ]
     },
     "execution_count": 15,
     "metadata": {},
     "output_type": "execute_result"
    }
   ],
   "source": [
    "saram"
   ]
  },
  {
   "cell_type": "code",
   "execution_count": 16,
   "id": "8286d84d-550e-4da9-a2d3-83020a521a6c",
   "metadata": {},
   "outputs": [
    {
     "data": {
      "text/plain": [
       "<AxesSubplot:ylabel='Frequency'>"
      ]
     },
     "execution_count": 16,
     "metadata": {},
     "output_type": "execute_result"
    },
    {
     "name": "stderr",
     "output_type": "stream",
     "text": [
      "C:\\ProgramData\\Anaconda3\\lib\\site-packages\\IPython\\core\\pylabtools.py:151: UserWarning: Glyph 45208 (\\N{HANGUL SYLLABLE NA}) missing from current font.\n",
      "  fig.canvas.print_figure(bytes_io, **kw)\n",
      "C:\\ProgramData\\Anaconda3\\lib\\site-packages\\IPython\\core\\pylabtools.py:151: UserWarning: Glyph 51060 (\\N{HANGUL SYLLABLE I}) missing from current font.\n",
      "  fig.canvas.print_figure(bytes_io, **kw)\n",
      "C:\\ProgramData\\Anaconda3\\lib\\site-packages\\IPython\\core\\pylabtools.py:151: UserWarning: Glyph 53412 (\\N{HANGUL SYLLABLE KI}) missing from current font.\n",
      "  fig.canvas.print_figure(bytes_io, **kw)\n",
      "C:\\ProgramData\\Anaconda3\\lib\\site-packages\\IPython\\core\\pylabtools.py:151: UserWarning: Glyph 47800 (\\N{HANGUL SYLLABLE MOM}) missing from current font.\n",
      "  fig.canvas.print_figure(bytes_io, **kw)\n",
      "C:\\ProgramData\\Anaconda3\\lib\\site-packages\\IPython\\core\\pylabtools.py:151: UserWarning: Glyph 47924 (\\N{HANGUL SYLLABLE MU}) missing from current font.\n",
      "  fig.canvas.print_figure(bytes_io, **kw)\n",
      "C:\\ProgramData\\Anaconda3\\lib\\site-packages\\IPython\\core\\pylabtools.py:151: UserWarning: Glyph 44172 (\\N{HANGUL SYLLABLE GE}) missing from current font.\n",
      "  fig.canvas.print_figure(bytes_io, **kw)\n"
     ]
    },
    {
     "data": {
      "image/png": "[encoded data removed]",
      "text/plain": [
       "<Figure size 640x480 with 1 Axes>"
      ]
     },
     "metadata": {},
     "output_type": "display_data"
    }
   ],
   "source": [
    "saram.plot.hist()"
   ]
  },
  {
   "cell_type": "code",
   "execution_count": 17,
   "id": "0b649794-51b3-4aea-a691-b1e124377849",
   "metadata": {},
   "outputs": [],
   "source": [
    "namer= saram.copy()"
   ]
  },
  {
   "cell_type": "code",
   "execution_count": 18,
   "id": "550c7c24-b0e5-493d-bb47-cabd1484ceef",
   "metadata": {},
   "outputs": [
    {
     "data": {
      "text/html": [
       "<div>\n",
       "<style scoped>\n",
       "    .dataframe tbody tr th:only-of-type {\n",
       "        vertical-align: middle;\n",
       "    }\n",
       "\n",
       "    .dataframe tbody tr th {\n",
       "        vertical-align: top;\n",
       "    }\n",
       "\n",
       "    .dataframe thead th {\n",
       "        text-align: right;\n",
       "    }\n",
       "</style>\n",
       "<table border=\"1\" class=\"dataframe\">\n",
       "  <thead>\n",
       "    <tr style=\"text-align: right;\">\n",
       "      <th></th>\n",
       "      <th>이름</th>\n",
       "      <th>성별</th>\n",
       "      <th>나이</th>\n",
       "      <th>키</th>\n",
       "      <th>몸무게</th>\n",
       "    </tr>\n",
       "  </thead>\n",
       "  <tbody>\n",
       "    <tr>\n",
       "      <th>0</th>\n",
       "      <td>김상봉</td>\n",
       "      <td>남</td>\n",
       "      <td>56</td>\n",
       "      <td>171</td>\n",
       "      <td>78</td>\n",
       "    </tr>\n",
       "    <tr>\n",
       "      <th>1</th>\n",
       "      <td>이인자</td>\n",
       "      <td>여</td>\n",
       "      <td>34</td>\n",
       "      <td>156</td>\n",
       "      <td>45</td>\n",
       "    </tr>\n",
       "    <tr>\n",
       "      <th>2</th>\n",
       "      <td>박상남</td>\n",
       "      <td>남</td>\n",
       "      <td>70</td>\n",
       "      <td>163</td>\n",
       "      <td>65</td>\n",
       "    </tr>\n",
       "  </tbody>\n",
       "</table>\n",
       "</div>"
      ],
      "text/plain": [
       "    이름 성별  나이    키  몸무게\n",
       "0  김상봉  남  56  171   78\n",
       "1  이인자  여  34  156   45\n",
       "2  박상남  남  70  163   65"
      ]
     },
     "execution_count": 18,
     "metadata": {},
     "output_type": "execute_result"
    }
   ],
   "source": [
    "namer"
   ]
  },
  {
   "cell_type": "code",
   "execution_count": 19,
   "id": "8378c61a-b59b-497d-b8f0-f14d856dbae0",
   "metadata": {},
   "outputs": [],
   "source": [
    "namer=namer.rename(columns={'이름':'name'})"
   ]
  },
  {
   "cell_type": "code",
   "execution_count": 20,
   "id": "38615fde-277e-4bb2-9324-a2c6221860e5",
   "metadata": {},
   "outputs": [
    {
     "data": {
      "text/html": [
       "<div>\n",
       "<style scoped>\n",
       "    .dataframe tbody tr th:only-of-type {\n",
       "        vertical-align: middle;\n",
       "    }\n",
       "\n",
       "    .dataframe tbody tr th {\n",
       "        vertical-align: top;\n",
       "    }\n",
       "\n",
       "    .dataframe thead th {\n",
       "        text-align: right;\n",
       "    }\n",
       "</style>\n",
       "<table border=\"1\" class=\"dataframe\">\n",
       "  <thead>\n",
       "    <tr style=\"text-align: right;\">\n",
       "      <th></th>\n",
       "      <th>name</th>\n",
       "      <th>성별</th>\n",
       "      <th>나이</th>\n",
       "      <th>키</th>\n",
       "      <th>몸무게</th>\n",
       "    </tr>\n",
       "  </thead>\n",
       "  <tbody>\n",
       "    <tr>\n",
       "      <th>0</th>\n",
       "      <td>김상봉</td>\n",
       "      <td>남</td>\n",
       "      <td>56</td>\n",
       "      <td>171</td>\n",
       "      <td>78</td>\n",
       "    </tr>\n",
       "    <tr>\n",
       "      <th>1</th>\n",
       "      <td>이인자</td>\n",
       "      <td>여</td>\n",
       "      <td>34</td>\n",
       "      <td>156</td>\n",
       "      <td>45</td>\n",
       "    </tr>\n",
       "    <tr>\n",
       "      <th>2</th>\n",
       "      <td>박상남</td>\n",
       "      <td>남</td>\n",
       "      <td>70</td>\n",
       "      <td>163</td>\n",
       "      <td>65</td>\n",
       "    </tr>\n",
       "  </tbody>\n",
       "</table>\n",
       "</div>"
      ],
      "text/plain": [
       "  name 성별  나이    키  몸무게\n",
       "0  김상봉  남  56  171   78\n",
       "1  이인자  여  34  156   45\n",
       "2  박상남  남  70  163   65"
      ]
     },
     "execution_count": 20,
     "metadata": {},
     "output_type": "execute_result"
    }
   ],
   "source": [
    "namer"
   ]
  },
  {
   "cell_type": "code",
   "execution_count": 21,
   "id": "1cb96335-5de5-4ad9-930c-d400e9d243ec",
   "metadata": {},
   "outputs": [],
   "source": [
    "namer=namer.rename(columns={'나이':'age'})"
   ]
  },
  {
   "cell_type": "code",
   "execution_count": 22,
   "id": "dc57e114-076d-435d-a052-0232ee87a244",
   "metadata": {},
   "outputs": [],
   "source": [
    "namer=namer.rename(columns={'키':'height'})"
   ]
  },
  {
   "cell_type": "code",
   "execution_count": 23,
   "id": "14f3eadf-76af-499c-b62c-6efbe3ab23cf",
   "metadata": {},
   "outputs": [],
   "source": [
    "namer=namer.rename(columns={'몸무게':'weight'})"
   ]
  },
  {
   "cell_type": "code",
   "execution_count": 24,
   "id": "465d2064-b2ba-4889-a422-66eec9cbae56",
   "metadata": {},
   "outputs": [
    {
     "data": {
      "text/html": [
       "<div>\n",
       "<style scoped>\n",
       "    .dataframe tbody tr th:only-of-type {\n",
       "        vertical-align: middle;\n",
       "    }\n",
       "\n",
       "    .dataframe tbody tr th {\n",
       "        vertical-align: top;\n",
       "    }\n",
       "\n",
       "    .dataframe thead th {\n",
       "        text-align: right;\n",
       "    }\n",
       "</style>\n",
       "<table border=\"1\" class=\"dataframe\">\n",
       "  <thead>\n",
       "    <tr style=\"text-align: right;\">\n",
       "      <th></th>\n",
       "      <th>name</th>\n",
       "      <th>성별</th>\n",
       "      <th>age</th>\n",
       "      <th>height</th>\n",
       "      <th>weight</th>\n",
       "    </tr>\n",
       "  </thead>\n",
       "  <tbody>\n",
       "    <tr>\n",
       "      <th>0</th>\n",
       "      <td>김상봉</td>\n",
       "      <td>남</td>\n",
       "      <td>56</td>\n",
       "      <td>171</td>\n",
       "      <td>78</td>\n",
       "    </tr>\n",
       "    <tr>\n",
       "      <th>1</th>\n",
       "      <td>이인자</td>\n",
       "      <td>여</td>\n",
       "      <td>34</td>\n",
       "      <td>156</td>\n",
       "      <td>45</td>\n",
       "    </tr>\n",
       "    <tr>\n",
       "      <th>2</th>\n",
       "      <td>박상남</td>\n",
       "      <td>남</td>\n",
       "      <td>70</td>\n",
       "      <td>163</td>\n",
       "      <td>65</td>\n",
       "    </tr>\n",
       "  </tbody>\n",
       "</table>\n",
       "</div>"
      ],
      "text/plain": [
       "  name 성별  age  height  weight\n",
       "0  김상봉  남   56     171      78\n",
       "1  이인자  여   34     156      45\n",
       "2  박상남  남   70     163      65"
      ]
     },
     "execution_count": 24,
     "metadata": {},
     "output_type": "execute_result"
    }
   ],
   "source": [
    "namer"
   ]
  },
  {
   "cell_type": "code",
   "execution_count": 25,
   "id": "1df96010-8404-4bd9-a17e-6b05acaf0222",
   "metadata": {},
   "outputs": [],
   "source": [
    "namer.to_csv(\"namer.csv\",index=False)"
   ]
  },
  {
   "cell_type": "code",
   "execution_count": 26,
   "id": "e81a362a-9d3a-41de-94b2-99ac2f34002b",
   "metadata": {},
   "outputs": [],
   "source": [
    "test2=pd.read_csv('namer.csv')"
   ]
  },
  {
   "cell_type": "code",
   "execution_count": 27,
   "id": "98a101a8-aefb-482f-87fc-a48065f5a555",
   "metadata": {},
   "outputs": [
    {
     "data": {
      "text/html": [
       "<div>\n",
       "<style scoped>\n",
       "    .dataframe tbody tr th:only-of-type {\n",
       "        vertical-align: middle;\n",
       "    }\n",
       "\n",
       "    .dataframe tbody tr th {\n",
       "        vertical-align: top;\n",
       "    }\n",
       "\n",
       "    .dataframe thead th {\n",
       "        text-align: right;\n",
       "    }\n",
       "</style>\n",
       "<table border=\"1\" class=\"dataframe\">\n",
       "  <thead>\n",
       "    <tr style=\"text-align: right;\">\n",
       "      <th></th>\n",
       "      <th>name</th>\n",
       "      <th>성별</th>\n",
       "      <th>age</th>\n",
       "      <th>height</th>\n",
       "      <th>weight</th>\n",
       "    </tr>\n",
       "  </thead>\n",
       "  <tbody>\n",
       "    <tr>\n",
       "      <th>0</th>\n",
       "      <td>김상봉</td>\n",
       "      <td>남</td>\n",
       "      <td>56</td>\n",
       "      <td>171</td>\n",
       "      <td>78</td>\n",
       "    </tr>\n",
       "    <tr>\n",
       "      <th>1</th>\n",
       "      <td>이인자</td>\n",
       "      <td>여</td>\n",
       "      <td>34</td>\n",
       "      <td>156</td>\n",
       "      <td>45</td>\n",
       "    </tr>\n",
       "    <tr>\n",
       "      <th>2</th>\n",
       "      <td>박상남</td>\n",
       "      <td>남</td>\n",
       "      <td>70</td>\n",
       "      <td>163</td>\n",
       "      <td>65</td>\n",
       "    </tr>\n",
       "  </tbody>\n",
       "</table>\n",
       "</div>"
      ],
      "text/plain": [
       "  name 성별  age  height  weight\n",
       "0  김상봉  남   56     171      78\n",
       "1  이인자  여   34     156      45\n",
       "2  박상남  남   70     163      65"
      ]
     },
     "execution_count": 27,
     "metadata": {},
     "output_type": "execute_result"
    }
   ],
   "source": [
    "test2"
   ]
  },
  {
   "cell_type": "code",
   "execution_count": 28,
   "id": "02968890-24b6-4c2b-82b2-2c8bf94e69b0",
   "metadata": {},
   "outputs": [],
   "source": [
    "namer=namer.rename(columns={'성별':'gender'})"
   ]
  },
  {
   "cell_type": "code",
   "execution_count": 29,
   "id": "c39f29c8-e58d-47e6-8832-5e5ff22bddda",
   "metadata": {},
   "outputs": [
    {
     "data": {
      "text/html": [
       "<div>\n",
       "<style scoped>\n",
       "    .dataframe tbody tr th:only-of-type {\n",
       "        vertical-align: middle;\n",
       "    }\n",
       "\n",
       "    .dataframe tbody tr th {\n",
       "        vertical-align: top;\n",
       "    }\n",
       "\n",
       "    .dataframe thead th {\n",
       "        text-align: right;\n",
       "    }\n",
       "</style>\n",
       "<table border=\"1\" class=\"dataframe\">\n",
       "  <thead>\n",
       "    <tr style=\"text-align: right;\">\n",
       "      <th></th>\n",
       "      <th>name</th>\n",
       "      <th>gender</th>\n",
       "      <th>age</th>\n",
       "      <th>height</th>\n",
       "      <th>weight</th>\n",
       "    </tr>\n",
       "  </thead>\n",
       "  <tbody>\n",
       "    <tr>\n",
       "      <th>0</th>\n",
       "      <td>김상봉</td>\n",
       "      <td>남</td>\n",
       "      <td>56</td>\n",
       "      <td>171</td>\n",
       "      <td>78</td>\n",
       "    </tr>\n",
       "    <tr>\n",
       "      <th>1</th>\n",
       "      <td>이인자</td>\n",
       "      <td>여</td>\n",
       "      <td>34</td>\n",
       "      <td>156</td>\n",
       "      <td>45</td>\n",
       "    </tr>\n",
       "    <tr>\n",
       "      <th>2</th>\n",
       "      <td>박상남</td>\n",
       "      <td>남</td>\n",
       "      <td>70</td>\n",
       "      <td>163</td>\n",
       "      <td>65</td>\n",
       "    </tr>\n",
       "  </tbody>\n",
       "</table>\n",
       "</div>"
      ],
      "text/plain": [
       "  name gender  age  height  weight\n",
       "0  김상봉      남   56     171      78\n",
       "1  이인자      여   34     156      45\n",
       "2  박상남      남   70     163      65"
      ]
     },
     "execution_count": 29,
     "metadata": {},
     "output_type": "execute_result"
    }
   ],
   "source": [
    "namer"
   ]
  },
  {
   "cell_type": "code",
   "execution_count": 30,
   "id": "7bf8351c-61c9-483c-b6c7-d4ca3ed280dd",
   "metadata": {},
   "outputs": [],
   "source": [
    "namer.to_csv(\"namer.csv\",index=False)"
   ]
  },
  {
   "cell_type": "code",
   "execution_count": 31,
   "id": "7cc839c7-c69a-4ccf-8d51-93505f95f5c1",
   "metadata": {},
   "outputs": [],
   "source": [
    "test2=pd.read_csv('namer.csv')"
   ]
  },
  {
   "cell_type": "code",
   "execution_count": 32,
   "id": "c1ea3185-54fb-466e-9fcb-e58b06271bcf",
   "metadata": {},
   "outputs": [
    {
     "data": {
      "text/html": [
       "<div>\n",
       "<style scoped>\n",
       "    .dataframe tbody tr th:only-of-type {\n",
       "        vertical-align: middle;\n",
       "    }\n",
       "\n",
       "    .dataframe tbody tr th {\n",
       "        vertical-align: top;\n",
       "    }\n",
       "\n",
       "    .dataframe thead th {\n",
       "        text-align: right;\n",
       "    }\n",
       "</style>\n",
       "<table border=\"1\" class=\"dataframe\">\n",
       "  <thead>\n",
       "    <tr style=\"text-align: right;\">\n",
       "      <th></th>\n",
       "      <th>name</th>\n",
       "      <th>gender</th>\n",
       "      <th>age</th>\n",
       "      <th>height</th>\n",
       "      <th>weight</th>\n",
       "    </tr>\n",
       "  </thead>\n",
       "  <tbody>\n",
       "    <tr>\n",
       "      <th>0</th>\n",
       "      <td>김상봉</td>\n",
       "      <td>남</td>\n",
       "      <td>56</td>\n",
       "      <td>171</td>\n",
       "      <td>78</td>\n",
       "    </tr>\n",
       "    <tr>\n",
       "      <th>1</th>\n",
       "      <td>이인자</td>\n",
       "      <td>여</td>\n",
       "      <td>34</td>\n",
       "      <td>156</td>\n",
       "      <td>45</td>\n",
       "    </tr>\n",
       "    <tr>\n",
       "      <th>2</th>\n",
       "      <td>박상남</td>\n",
       "      <td>남</td>\n",
       "      <td>70</td>\n",
       "      <td>163</td>\n",
       "      <td>65</td>\n",
       "    </tr>\n",
       "  </tbody>\n",
       "</table>\n",
       "</div>"
      ],
      "text/plain": [
       "  name gender  age  height  weight\n",
       "0  김상봉      남   56     171      78\n",
       "1  이인자      여   34     156      45\n",
       "2  박상남      남   70     163      65"
      ]
     },
     "execution_count": 32,
     "metadata": {},
     "output_type": "execute_result"
    }
   ],
   "source": [
    "test2"
   ]
  },
  {
   "cell_type": "code",
   "execution_count": 33,
   "id": "19bda246-c095-4ba3-9681-61fa8e25c140",
   "metadata": {},
   "outputs": [
    {
     "data": {
      "text/plain": [
       "<AxesSubplot:ylabel='Frequency'>"
      ]
     },
     "execution_count": 33,
     "metadata": {},
     "output_type": "execute_result"
    },
    {
     "data": {
      "image/png": "[encoded data removed]",
      "text/plain": [
       "<Figure size 640x480 with 1 Axes>"
      ]
     },
     "metadata": {},
     "output_type": "display_data"
    }
   ],
   "source": [
    "namer.plot.hist()"
   ]
  },
  {
   "cell_type": "code",
   "execution_count": 34,
   "id": "c71a40cb-45f7-44f2-948c-4ea8c639e6b7",
   "metadata": {},
   "outputs": [],
   "source": [
    "import numpy as np"
   ]
  },
  {
   "cell_type": "code",
   "execution_count": 37,
   "id": "cdae6934-9fed-4cac-a537-4de8f0dedd3c",
   "metadata": {},
   "outputs": [
    {
     "data": {
      "text/html": [
       "<div>\n",
       "<style scoped>\n",
       "    .dataframe tbody tr th:only-of-type {\n",
       "        vertical-align: middle;\n",
       "    }\n",
       "\n",
       "    .dataframe tbody tr th {\n",
       "        vertical-align: top;\n",
       "    }\n",
       "\n",
       "    .dataframe thead th {\n",
       "        text-align: right;\n",
       "    }\n",
       "</style>\n",
       "<table border=\"1\" class=\"dataframe\">\n",
       "  <thead>\n",
       "    <tr style=\"text-align: right;\">\n",
       "      <th></th>\n",
       "      <th>name</th>\n",
       "      <th>gender</th>\n",
       "      <th>age</th>\n",
       "      <th>height</th>\n",
       "      <th>weight</th>\n",
       "      <th>what</th>\n",
       "    </tr>\n",
       "  </thead>\n",
       "  <tbody>\n",
       "    <tr>\n",
       "      <th>0</th>\n",
       "      <td>김상봉</td>\n",
       "      <td>남</td>\n",
       "      <td>56</td>\n",
       "      <td>171</td>\n",
       "      <td>78</td>\n",
       "      <td>over50</td>\n",
       "    </tr>\n",
       "    <tr>\n",
       "      <th>1</th>\n",
       "      <td>이인자</td>\n",
       "      <td>여</td>\n",
       "      <td>34</td>\n",
       "      <td>156</td>\n",
       "      <td>45</td>\n",
       "      <td>under50</td>\n",
       "    </tr>\n",
       "    <tr>\n",
       "      <th>2</th>\n",
       "      <td>박상남</td>\n",
       "      <td>남</td>\n",
       "      <td>70</td>\n",
       "      <td>163</td>\n",
       "      <td>65</td>\n",
       "      <td>over50</td>\n",
       "    </tr>\n",
       "  </tbody>\n",
       "</table>\n",
       "</div>"
      ],
      "text/plain": [
       "  name gender  age  height  weight     what\n",
       "0  김상봉      남   56     171      78   over50\n",
       "1  이인자      여   34     156      45  under50\n",
       "2  박상남      남   70     163      65   over50"
      ]
     },
     "execution_count": 37,
     "metadata": {},
     "output_type": "execute_result"
    }
   ],
   "source": [
    "namer['what']=np.where(namer['weight'] >= 50, 'over50','under50')\n",
    "namer"
   ]
  },
  {
   "cell_type": "code",
   "execution_count": 44,
   "id": "1c02e14b-1b46-47b6-a808-80a7f9e02d79",
   "metadata": {},
   "outputs": [
    {
     "data": {
      "text/plain": [
       "<AxesSubplot:>"
      ]
     },
     "execution_count": 44,
     "metadata": {},
     "output_type": "execute_result"
    },
    {
     "data": {
      "image/png": "[encoded data removed]",
      "text/plain": [
       "<Figure size 640x480 with 1 Axes>"
      ]
     },
     "metadata": {},
     "output_type": "display_data"
    }
   ],
   "source": [
    "count = namer['what'].value_counts()\n",
    "count.plot.bar(rot=0)"
   ]
  },
  {
   "cell_type": "code",
   "execution_count": 45,
   "id": "027560aa-cca3-4fc3-8291-be0805dc26ef",
   "metadata": {},
   "outputs": [
    {
     "data": {
      "text/plain": [
       "<AxesSubplot:xlabel='age', ylabel='weight'>"
      ]
     },
     "execution_count": 45,
     "metadata": {},
     "output_type": "execute_result"
    },
    {
     "data": {
      "image/png": "[encoded data removed]",
      "text/plain": [
       "<Figure size 640x480 with 1 Axes>"
      ]
     },
     "metadata": {},
     "output_type": "display_data"
    }
   ],
   "source": [
    "namer.plot.scatter(x='age',y='weight')"
   ]
  },
  {
   "cell_type": "code",
   "execution_count": 46,
   "id": "1fe1bea4-fb85-4c7e-93a7-06ed321533ba",
   "metadata": {},
   "outputs": [
    {
     "data": {
      "text/html": [
       "<div>\n",
       "<style scoped>\n",
       "    .dataframe tbody tr th:only-of-type {\n",
       "        vertical-align: middle;\n",
       "    }\n",
       "\n",
       "    .dataframe tbody tr th {\n",
       "        vertical-align: top;\n",
       "    }\n",
       "\n",
       "    .dataframe thead th {\n",
       "        text-align: right;\n",
       "    }\n",
       "</style>\n",
       "<table border=\"1\" class=\"dataframe\">\n",
       "  <thead>\n",
       "    <tr style=\"text-align: right;\">\n",
       "      <th></th>\n",
       "      <th>name</th>\n",
       "      <th>gender</th>\n",
       "      <th>age</th>\n",
       "      <th>height</th>\n",
       "      <th>weight</th>\n",
       "      <th>what</th>\n",
       "    </tr>\n",
       "  </thead>\n",
       "  <tbody>\n",
       "    <tr>\n",
       "      <th>1</th>\n",
       "      <td>이인자</td>\n",
       "      <td>여</td>\n",
       "      <td>34</td>\n",
       "      <td>156</td>\n",
       "      <td>45</td>\n",
       "      <td>under50</td>\n",
       "    </tr>\n",
       "    <tr>\n",
       "      <th>0</th>\n",
       "      <td>김상봉</td>\n",
       "      <td>남</td>\n",
       "      <td>56</td>\n",
       "      <td>171</td>\n",
       "      <td>78</td>\n",
       "      <td>over50</td>\n",
       "    </tr>\n",
       "    <tr>\n",
       "      <th>2</th>\n",
       "      <td>박상남</td>\n",
       "      <td>남</td>\n",
       "      <td>70</td>\n",
       "      <td>163</td>\n",
       "      <td>65</td>\n",
       "      <td>over50</td>\n",
       "    </tr>\n",
       "  </tbody>\n",
       "</table>\n",
       "</div>"
      ],
      "text/plain": [
       "  name gender  age  height  weight     what\n",
       "1  이인자      여   34     156      45  under50\n",
       "0  김상봉      남   56     171      78   over50\n",
       "2  박상남      남   70     163      65   over50"
      ]
     },
     "execution_count": 46,
     "metadata": {},
     "output_type": "execute_result"
    }
   ],
   "source": [
    "namer.sort_values('age')"
   ]
  },
  {
   "cell_type": "code",
   "execution_count": null,
   "id": "b4fed192-3d8f-4981-9cbd-38c4f49d9367",
   "metadata": {},
   "outputs": [],
   "source": []
  }
 ],
 "metadata": {
  "kernelspec": {
   "display_name": "Python 3 (ipykernel)",
   "language": "python",
   "name": "python3"
  },
  "language_info": {
   "codemirror_mode": {
    "name": "ipython",
    "version": 3
   },
   "file_extension": ".py",
   "mimetype": "text/x-python",
   "name": "python",
   "nbconvert_exporter": "python",
   "pygments_lexer": "ipython3",
   "version": "3.9.13"
  }
 },
 "nbformat": 4,
 "nbformat_minor": 5
}
