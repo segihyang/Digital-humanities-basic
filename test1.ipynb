{
 "cells": [
  {
   "cell_type": "code",
   "execution_count": 1,
   "id": "0bad755e-34c0-4ea4-b568-46f826e29f58",
   "metadata": {
    "tags": []
   },
   "outputs": [
    {
     "data": {
      "text/plain": [
       "int"
      ]
     },
     "execution_count": 1,
     "metadata": {},
     "output_type": "execute_result"
    }
   ],
   "source": [
    "b=1\n",
    "type(b)"
   ]
  },
  {
   "cell_type": "code",
   "execution_count": 2,
   "id": "86faaef1-4786-4736-ac47-83f7c2142072",
   "metadata": {},
   "outputs": [
    {
     "data": {
      "text/plain": [
       "float"
      ]
     },
     "execution_count": 2,
     "metadata": {},
     "output_type": "execute_result"
    }
   ],
   "source": [
    "c=1.1\n",
    "type(c)"
   ]
  },
  {
   "cell_type": "code",
   "execution_count": 3,
   "id": "b0248579-8ee3-4fbd-b221-67858bc7d7fd",
   "metadata": {},
   "outputs": [
    {
     "data": {
      "text/plain": [
       "str"
      ]
     },
     "execution_count": 3,
     "metadata": {},
     "output_type": "execute_result"
    }
   ],
   "source": [
    "a=\"dd\"\n",
    "type(a)"
   ]
  },
  {
   "cell_type": "code",
   "execution_count": 4,
   "id": "67ce37f6-da26-4a45-a0e2-781265d1a97e",
   "metadata": {},
   "outputs": [
    {
     "data": {
      "text/plain": [
       "'dd1'"
      ]
     },
     "execution_count": 4,
     "metadata": {},
     "output_type": "execute_result"
    }
   ],
   "source": [
    "d='1'\n",
    "a+d"
   ]
  },
  {
   "cell_type": "code",
   "execution_count": 7,
   "id": "a7f02954-fe44-4fe5-b1e0-a82a4ee295ea",
   "metadata": {},
   "outputs": [
    {
     "data": {
      "text/plain": [
       "[1, 2, 3, 4, 5]"
      ]
     },
     "execution_count": 7,
     "metadata": {},
     "output_type": "execute_result"
    }
   ],
   "source": [
    "aa=[1,2,3]\n",
    "bb=[4,5]\n",
    "aa+bb"
   ]
  },
  {
   "cell_type": "code",
   "execution_count": 8,
   "id": "f1efdda6-679d-44b2-ad3f-78892f52599f",
   "metadata": {},
   "outputs": [
    {
     "data": {
      "text/plain": [
       "[1, 2, 3, 1, 2, 3, 1, 2, 3]"
      ]
     },
     "execution_count": 8,
     "metadata": {},
     "output_type": "execute_result"
    }
   ],
   "source": [
    "(aa)*3"
   ]
  },
  {
   "cell_type": "code",
   "execution_count": 9,
   "id": "aac37d9f-f417-4607-aab4-896ee1a172c1",
   "metadata": {},
   "outputs": [
    {
     "data": {
      "text/plain": [
       "1"
      ]
     },
     "execution_count": 9,
     "metadata": {},
     "output_type": "execute_result"
    }
   ],
   "source": [
    "aa[0]"
   ]
  },
  {
   "cell_type": "code",
   "execution_count": 10,
   "id": "b929c66f-94fc-4298-ad5d-2d32218a2561",
   "metadata": {},
   "outputs": [
    {
     "data": {
      "text/plain": [
       "6"
      ]
     },
     "execution_count": 10,
     "metadata": {},
     "output_type": "execute_result"
    }
   ],
   "source": [
    "aa[1]*3"
   ]
  },
  {
   "cell_type": "code",
   "execution_count": 12,
   "id": "5ce2c62d-ce5a-4ebc-a1c4-d90547342a12",
   "metadata": {},
   "outputs": [],
   "source": [
    "def xx(a,b):\n",
    "    c=a*b\n",
    "    return c"
   ]
  },
  {
   "cell_type": "code",
   "execution_count": 13,
   "id": "872f5e05-9709-4c8a-9628-57f5c9113db5",
   "metadata": {},
   "outputs": [
    {
     "data": {
      "text/plain": [
       "6"
      ]
     },
     "execution_count": 13,
     "metadata": {},
     "output_type": "execute_result"
    }
   ],
   "source": [
    "xx(2,3)"
   ]
  },
  {
   "cell_type": "code",
   "execution_count": 14,
   "id": "2b2811a5-75e1-49de-aa96-c7a0da8f21a0",
   "metadata": {},
   "outputs": [
    {
     "data": {
      "text/plain": [
       "6"
      ]
     },
     "execution_count": 14,
     "metadata": {},
     "output_type": "execute_result"
    }
   ],
   "source": [
    "sum(aa)"
   ]
  },
  {
   "cell_type": "code",
   "execution_count": 15,
   "id": "68672df0-6de8-412d-bc71-084f189f1689",
   "metadata": {},
   "outputs": [
    {
     "data": {
      "text/plain": [
       "1"
      ]
     },
     "execution_count": 15,
     "metadata": {},
     "output_type": "execute_result"
    }
   ],
   "source": [
    "min(aa)"
   ]
  },
  {
   "cell_type": "code",
   "execution_count": 16,
   "id": "8fb4c769-4999-46f5-927e-87fd6fddd52d",
   "metadata": {},
   "outputs": [
    {
     "data": {
      "text/plain": [
       "3"
      ]
     },
     "execution_count": 16,
     "metadata": {},
     "output_type": "execute_result"
    }
   ],
   "source": [
    "max(aa)"
   ]
  },
  {
   "cell_type": "code",
   "execution_count": 17,
   "id": "cb8ae12a-5460-429b-b22c-54408f13809a",
   "metadata": {},
   "outputs": [
    {
     "name": "stdout",
     "output_type": "stream",
     "text": [
      "[1, 2, 3]\n"
     ]
    }
   ],
   "source": [
    "print(aa)"
   ]
  },
  {
   "cell_type": "code",
   "execution_count": 18,
   "id": "a47c28f7-1516-4ac1-90d2-7b43fcfd03d8",
   "metadata": {},
   "outputs": [
    {
     "data": {
      "text/plain": [
       "3"
      ]
     },
     "execution_count": 18,
     "metadata": {},
     "output_type": "execute_result"
    }
   ],
   "source": [
    "len(aa)"
   ]
  },
  {
   "cell_type": "code",
   "execution_count": 19,
   "id": "ced6818a-5cda-4981-8bf4-9b3e34248a4d",
   "metadata": {},
   "outputs": [
    {
     "data": {
      "text/plain": [
       "6"
      ]
     },
     "execution_count": 19,
     "metadata": {},
     "output_type": "execute_result"
    }
   ],
   "source": [
    "len(\"number\")"
   ]
  },
  {
   "cell_type": "code",
   "execution_count": 20,
   "id": "1639a921-93b9-41e9-b249-7f3fedc1e36e",
   "metadata": {},
   "outputs": [
    {
     "name": "stdout",
     "output_type": "stream",
     "text": [
      "[1.2, 2.5, 3.9]\n"
     ]
    }
   ],
   "source": [
    "aaa=[1.2,2.5,3.9]\n",
    "print(aaa)"
   ]
  },
  {
   "cell_type": "code",
   "execution_count": 21,
   "id": "d9bb0431-9028-4252-8b7d-bb059c5511b2",
   "metadata": {},
   "outputs": [
    {
     "data": {
      "text/plain": [
       "1"
      ]
     },
     "execution_count": 21,
     "metadata": {},
     "output_type": "execute_result"
    }
   ],
   "source": [
    "round(aaa[0])"
   ]
  },
  {
   "cell_type": "code",
   "execution_count": 22,
   "id": "6b6610d8-ed97-4e8a-8d33-c422c566fcb0",
   "metadata": {},
   "outputs": [
    {
     "data": {
      "text/plain": [
       "2"
      ]
     },
     "execution_count": 22,
     "metadata": {},
     "output_type": "execute_result"
    }
   ],
   "source": [
    "round(aaa[1])"
   ]
  },
  {
   "cell_type": "code",
   "execution_count": 23,
   "id": "e8f04142-d4a4-4989-a089-5fe3a8a8e329",
   "metadata": {},
   "outputs": [
    {
     "name": "stdout",
     "output_type": "stream",
     "text": [
      "[1.2, 2.5, 3.9]입니다\n"
     ]
    }
   ],
   "source": [
    "print(str(aaa)+'입니다')"
   ]
  },
  {
   "cell_type": "code",
   "execution_count": 24,
   "id": "f5dd35bd-988a-49f8-9874-3851b9d708d9",
   "metadata": {},
   "outputs": [
    {
     "data": {
      "text/plain": [
       "1"
      ]
     },
     "execution_count": 24,
     "metadata": {},
     "output_type": "execute_result"
    }
   ],
   "source": [
    "int(1.2)"
   ]
  },
  {
   "cell_type": "code",
   "execution_count": 25,
   "id": "7ddaf612-9e07-4f8c-81e1-81d4107f69bc",
   "metadata": {},
   "outputs": [
    {
     "data": {
      "text/plain": [
       "1.0"
      ]
     },
     "execution_count": 25,
     "metadata": {},
     "output_type": "execute_result"
    }
   ],
   "source": [
    "float(1)"
   ]
  },
  {
   "cell_type": "code",
   "execution_count": 26,
   "id": "e594824b-4f69-4f8b-8602-c6f11264cfba",
   "metadata": {},
   "outputs": [
    {
     "data": {
      "text/plain": [
       "list"
      ]
     },
     "execution_count": 26,
     "metadata": {},
     "output_type": "execute_result"
    }
   ],
   "source": [
    "type(aa)"
   ]
  },
  {
   "cell_type": "code",
   "execution_count": 27,
   "id": "ab677cdf-897a-4891-a4db-e62c050d7cb1",
   "metadata": {},
   "outputs": [],
   "source": [
    "del(aa[1])"
   ]
  },
  {
   "cell_type": "code",
   "execution_count": 28,
   "id": "c89ae4ad-b6a5-4e43-947d-69c7ebd71227",
   "metadata": {},
   "outputs": [
    {
     "data": {
      "text/plain": [
       "[1, 3]"
      ]
     },
     "execution_count": 28,
     "metadata": {},
     "output_type": "execute_result"
    }
   ],
   "source": [
    "aa"
   ]
  },
  {
   "cell_type": "code",
   "execution_count": 29,
   "id": "d845aeac-b7ad-4aa8-a1e1-5d619b918d86",
   "metadata": {},
   "outputs": [
    {
     "ename": "NameError",
     "evalue": "name 'aa' is not defined",
     "output_type": "error",
     "traceback": [
      "\u001b[1;31m---------------------------------------------------------------------------\u001b[0m",
      "\u001b[1;31mNameError\u001b[0m                                 Traceback (most recent call last)",
      "\u001b[1;32m~\\AppData\\Local\\Temp\\ipykernel_5576\\83243308.py\u001b[0m in \u001b[0;36m<module>\u001b[1;34m\u001b[0m\n\u001b[0;32m      1\u001b[0m \u001b[1;32mdel\u001b[0m\u001b[1;33m(\u001b[0m\u001b[0maa\u001b[0m\u001b[1;33m)\u001b[0m\u001b[1;33m\u001b[0m\u001b[1;33m\u001b[0m\u001b[0m\n\u001b[1;32m----> 2\u001b[1;33m \u001b[0maa\u001b[0m\u001b[1;33m\u001b[0m\u001b[1;33m\u001b[0m\u001b[0m\n\u001b[0m",
      "\u001b[1;31mNameError\u001b[0m: name 'aa' is not defined"
     ]
    }
   ],
   "source": [
    "del(aa)\n",
    "aa"
   ]
  },
  {
   "cell_type": "code",
   "execution_count": 30,
   "id": "03b1143c-bf11-402a-bf01-4edb56a3d460",
   "metadata": {},
   "outputs": [
    {
     "name": "stdout",
     "output_type": "stream",
     "text": [
      "Help on built-in function sum in module builtins:\n",
      "\n",
      "sum(iterable, /, start=0)\n",
      "    Return the sum of a 'start' value (default: 0) plus an iterable of numbers\n",
      "    \n",
      "    When the iterable is empty, return the start value.\n",
      "    This function is intended specifically for use with numeric values and may\n",
      "    reject non-numeric types.\n",
      "\n"
     ]
    }
   ],
   "source": [
    "help(sum)"
   ]
  },
  {
   "cell_type": "code",
   "execution_count": null,
   "id": "8bff4d8f-9a89-4b48-96ba-ef3f5773b1a2",
   "metadata": {},
   "outputs": [],
   "source": []
  }
 ],
 "metadata": {
  "kernelspec": {
   "display_name": "Python 3 (ipykernel)",
   "language": "python",
   "name": "python3"
  },
  "language_info": {
   "codemirror_mode": {
    "name": "ipython",
    "version": 3
   },
   "file_extension": ".py",
   "mimetype": "text/x-python",
   "name": "python",
   "nbconvert_exporter": "python",
   "pygments_lexer": "ipython3",
   "version": "3.9.13"
  }
 },
 "nbformat": 4,
 "nbformat_minor": 5
}
