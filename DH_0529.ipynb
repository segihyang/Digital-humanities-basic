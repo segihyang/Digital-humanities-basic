{
 "cells": [
  {
   "cell_type": "code",
   "execution_count": 14,
   "id": "bec7ae87-18fe-4efa-8cef-4ae412f540d4",
   "metadata": {},
   "outputs": [],
   "source": [
    "from urllib.request import urlopen\n",
    "from bs4 import BeautifulSoup\n",
    "texts = []\n",
    "newurl = 'https://search.naver.com/search.naver?where=news&query=%EB%89%B4%EC%A7%84%EC%8A%A4&sm=tab_opt&sort=1&photo=0&field=0&pd=0&ds=&de=&docid=&related=0&mynews=0&office_type=0&office_section_code=0&news_office_checked=&nso=so%3Add%2Cp%3Aall&is_sug_officeid=0'\n",
    "html = urlopen(newurl)\n",
    "bsObject = BeautifulSoup(html, \"html.parser\") "
   ]
  },
  {
   "cell_type": "code",
   "execution_count": 4,
   "id": "7392f55e-2031-4bbd-bc84-5833394601fc",
   "metadata": {},
   "outputs": [
    {
     "data": {
      "text/plain": [
       "'뉴진스 : 네이버 뉴스검색'"
      ]
     },
     "execution_count": 4,
     "metadata": {},
     "output_type": "execute_result"
    }
   ],
   "source": [
    "bsObject.title.string"
   ]
  },
  {
   "cell_type": "code",
   "execution_count": 5,
   "id": "28e52e4d-38bc-40a8-9a90-6ac6fabc2232",
   "metadata": {},
   "outputs": [
    {
     "data": {
      "text/plain": [
       "[<p class=\"dsc\"> <i class=\"imsc ico_election\"></i><span class=\"_alert_passage\"></span> </p>,\n",
       " <p class=\"dsc\">ON/OFF 설정은<br/>해당기기(브라우저)에 저장됩니다.</p>,\n",
       " <p class=\"dsc\"><em class=\"txt\">동일한 시간대/연령/남녀별</em> 사용자 그룹의<br/>관심사에 맞춰 자동완성을 제공합니다.</p>,\n",
       " <p class=\"elss dsc\">확진 현황 및 백신 접종 정보 안내</p>,\n",
       " <p class=\"elss dsc\">내 주변에서 신속하게 검사 받기</p>,\n",
       " <p class=\"elss dsc\">몰랐던 대한민국 여행지의 재발견</p>,\n",
       " <p class=\"elss dsc\">인기 있는 해외 여행지 알아보기</p>,\n",
       " <p class=\"elss dsc\">네이버도착보장 태그를 확인해 보세요</p>,\n",
       " <p class=\"elss dsc\">지금 '네이버 채널 테크'에서 만나보세요!</p>]"
      ]
     },
     "execution_count": 5,
     "metadata": {},
     "output_type": "execute_result"
    }
   ],
   "source": [
    "bsObject.find_all('p')"
   ]
  },
  {
   "cell_type": "code",
   "execution_count": 6,
   "id": "6afec6ce-c991-4101-968b-781a8c4e62db",
   "metadata": {},
   "outputs": [
    {
     "data": {
      "text/plain": [
       "\"          뉴진스 : 네이버 뉴스검색       메뉴 영역으로 바로가기 본문 영역으로 바로가기       NAVER   검색                  한글 입력기     자동완성 레이어     최근검색어  전체삭제       @txt@   @date@. 삭제    검색어 저장 기능이 꺼져 있습니다.설정이 초기화 된다면 도움말을 확인해주세요. 최근 검색어 내역이 없습니다.설정이 초기화 된다면 도움말을 확인해주세요.    도움말    자동저장 끄기           @5@회 로또당첨번호  동행복권 제공     @6@@7@@8@@9@@10@@11@@12@       @14@  @txt@@currency@  @8@(@9@%)    @6@원        @txt@  @7@, @message@     @7@ @8@°         @txt@  @5@    바로가기       @txt@   추가     @txt@   @date@. 추가      @query@ @intend@   추가          자세히보기      관심사를 반영한 컨텍스트 자동완성도움말   컨텍스트 자동완성   컨텍스트 자동완성  ON/OFF 설정은해당기기(브라우저)에 저장됩니다.  자세히    동일한 시간대/연령/남녀별 사용자 그룹의관심사에 맞춰 자동완성을 제공합니다.  로그인 자세히   컨텍스트 자동완성 레이어 닫기      도움말 신고    자동완성 끄기        검색            통합이미지뉴스VIEW지식iN인플루언서동영상쇼핑어학사전지도     더보기    도서뮤직지식백과오디오클립학술정보  검색옵션        공유      뉴진스 뉴스검색 결과                        관련도순 최신순 오래된순  옵션   검색옵션 닫기    정렬  관련도순 최신순 오래된순    기간  전체 1시간옵션펼치기접기 1일 1주 1개월 3개월 6개월 1년 직접입력옵션펼치기접기    시간선택     1시간 2시간 3시간 4시간 5시간 6시간     기간 설정시작       기간 설정끝     년(Year)       월(Month)       일(Day)      적용   유형  전체 포토 동영상 지면기사 보도자료 자동생성기사     언론사  전체 언론사 분류순옵션펼치기접기 가나다순옵션펼치기접기    언론사 분류선택       언론사선택         가나다순 선택       언론사선택         기자명    적용       옵션 초기화 검색옵션 가이드         언론사 선정언론사가 선정한 주요기사 혹은 심층기획 기사입니다.         문서 저장하기  Keep에 저장 Keep 바로가기  CBC뉴스41분 전 포레스텔라와 라포엠, 크로스오버 그룹의 절정급 인기…Kpop스타 아성 넘었다   한편 최고그룹상 4위부터 10위까지는 방탄소년단(2250득표, 5.5%) 윤도현밴드(383득표, 0.9%) (여자)아이들(232득표, 0.6%) 아이브(148득표, 0.4%) 블랙핑크(109득표, 0.3%) 뉴진스(80득표, 0.2%) 트와이스(65득표, 0.2%)가 각각...        문서 저장하기  Keep에 저장 Keep 바로가기  싱글리스트1시간 전 제로 음료업계 '2차전' 시작..이색 마케팅 총력전   앰버서더인 뉴진스를 마케팅에 적극 활용한 사례다. 코카콜라는 제품 정식 출시에 앞서 지난 27일까지 코카... 구매자를 대상으로 추첨을 통해 코카-콜라 앰버서더 뉴진스의 모습이 담긴 '코카-콜라 포토북'을 증정하기도...        문서 저장하기  Keep에 저장 Keep 바로가기  셀럽미디어1시간 전 [셀럽이슈] 블랙핑크 팬들, 지수 두 번째 순서에…불만 댓글 도배   해당 게시물에는 김연아를 비롯해, 지수, 이준호, 뉴진스 해린, 정해인의 모습이 담겼다. 하지만 공개 직후 블랙핑크의 일부 팬들은 지수가 아닌 김연아를 게시물의 첫 번째 사진으로 올린 점을 지적하며 불만의 댓글을...        문서 저장하기  Keep에 저장 Keep 바로가기  영남일보2시간 전 임영웅, 5월 가수 브랜드평판 1위…2위 BTS·세븐틴·블랙핑크·뉴진스 순   2위 방탄소년단 3위 세븐틴, 4위 블랙핑크, 5위 뉴진스 순이다. 임영웅은 4월 뉴진스에 1위를 내주며 3위를 차지한 바 있다. 2위는 방탄소년단이었다.한국기업평판연구소는 2023년 4월 27일부터 2023년 5월...        문서 저장하기  Keep에 저장 Keep 바로가기  아시아투데이2시간 전 롯데百, 빨라진 더위에 한달 일찍 여름휴가 행사 연다   6월2일부터 6일까지는 전점에서 '선글라스 클리어런스' 행사를 열고, 서울 소공동 본점 영플라자에서는 7월31일까지 '뉴진스'가 모델로 활동하고 있는 컨텐포러리 아이웨어 브랜드 '카린'의 팝업을 열어 전품목 20% 할인...        문서 저장하기  Keep에 저장 Keep 바로가기  대한경제2시간 전 롯데百, 6월 바캉스 행사 진행   본점 영플라자에서는 7월31일까지 ‘뉴진스’가 모델로 활동하고 있는 컨템퍼러리 아이웨어 브랜드 ‘카린’ 팝업을 열어 선글라스 전 품목을 20% 할인 판매한다.잠실점에서는 6월30일까지 이탈리아 프리미엄...        문서 저장하기  Keep에 저장 Keep 바로가기  스트레이트뉴스2시간 전 롯데백화점, 이른 무더위·휴가철에 6월초 바캉스 행사   또 본점 영플라자에서는 7월 31일(월)까지 '뉴진스'가 모델로 활동하고 있는 컨템포러리 아이웨어 브랜드 '카린' 팝업을 열어 선글라스 전 품목을 20% 할인 판매하고, 잠실점에서는 6월 30일(금)까지 이탈리아 프리미엄...        문서 저장하기  Keep에 저장 Keep 바로가기  매일경제2시간 전네이버뉴스 “김연아보다 뒤?” 블랙핑크 지수 팬 분노 이유는?   행사에는 김연아를 비롯해 지수, 이준호, 뉴진스 해린 등이 참석했다. SNS에는 김연아의 사진이 첫번째로 지수의 사진이 두 번째로 올라왔다. 이에 지수의 일부 해외 팬들은 댓글을 통해 불만을 표시했다. 이들은 “글로벌...        문서 저장하기  Keep에 저장 Keep 바로가기  VOGUE2시간 전 뉴진스 데뷔 후 가장 마음에 들었던 혜인의 스타일링은? | VOGUE MEETS   https://youtu.be/Z8BRIGinkEA 뉴진스 혜인의 디지털 커버 촬영장 비하인드를 공개합니다✨ 데뷔 후 가장... 뉴진스 혜인과 <보그>가 함께한 하루, 지금 바로 확인하세요. *본 영상은 ‘루이 비통(Louis Vuitton)’ 제품...        문서 저장하기  Keep에 저장 Keep 바로가기  이코노믹리뷰2시간 전 '빨라진 더위, 휴가도 일찍'…롯데百, 6월초부터 바캉스 행사 진행   또 본점 영플라자에서는 7월31일까지 '뉴진스'가 모델로 활동하고 있는 컨템포러리 아이웨어 브랜드 '카린' 팝업을 열어 선글라스 전 품목을 20% 할인 판매하고 잠실점에서는 6월30일까지 이탈리아 프리미엄 여행가방...      뉴스 기사와 댓글로 인한 문제 발생시 24시간 센터로 접수해주세요.    이전12345678910다음        코로나19 현황 확진 현황 및 백신 접종 정보 안내      신속항원검사 내 주변에서 신속하게 검사 받기          우리나라에 이렇게 멋진 곳이? 몰랐던 대한민국 여행지의 재발견      여름 휴가 계획은 지금부터! 인기 있는 해외 여행지 알아보기      정확한 배송일이 궁금하다면? 네이버도착보장 태그를 확인해 보세요      지금 가장 핫한 네이버 기술 이야기 지금 '네이버 채널 테크'에서 만나보세요!          맨위로    전체서비스 이용약관 개인정보처리방침 통합검색 고객센터 © NAVER Corp.    \""
      ]
     },
     "execution_count": 6,
     "metadata": {},
     "output_type": "execute_result"
    }
   ],
   "source": [
    "bsObject.get_text()"
   ]
  },
  {
   "cell_type": "code",
   "execution_count": 15,
   "id": "d3851df5-ca03-44af-8406-0b4e67d0d061",
   "metadata": {},
   "outputs": [],
   "source": [
    "ul = bsObject.select_one('ul.list_news')\n",
    "for i in range(1,20): #페이지당 볼 수 있는 기사 수\n",
    "    titles = ul.select('#sp_nws'+str(i)+' > div > div > a')\n",
    "    for title in titles:\n",
    "        texts.append(title.get_text())"
   ]
  },
  {
   "cell_type": "code",
   "execution_count": 16,
   "id": "4be5d24e-a413-4fa9-9d08-51734c7802d7",
   "metadata": {},
   "outputs": [
    {
     "data": {
      "text/plain": [
       "['포레스텔라와 라포엠, 크로스오버 그룹의 절정급 인기…Kpop스타 아성 넘었다',\n",
       " \"제로 음료업계 '2차전' 시작..이색 마케팅 총력전\",\n",
       " '[셀럽이슈] 블랙핑크 팬들, 지수 두 번째 순서에…불만 댓글 도배',\n",
       " '임영웅, 5월 가수 브랜드평판 1위…2위 BTS·세븐틴·블랙핑크·뉴진스 순',\n",
       " '롯데百, 빨라진 더위에 한달 일찍 여름휴가 행사 연다',\n",
       " '롯데百, 6월 바캉스 행사 진행',\n",
       " '롯데백화점, 이른 무더위·휴가철에 6월초 바캉스 행사',\n",
       " '“김연아보다 뒤?” 블랙핑크 지수 팬 분노 이유는?',\n",
       " '뉴진스 데뷔 후 가장 마음에 들었던 혜인의 스타일링은? | VOGUE MEETS',\n",
       " \"'빨라진 더위, 휴가도 일찍'…롯데百, 6월초부터 바캉스 행사 진행\"]"
      ]
     },
     "execution_count": 16,
     "metadata": {},
     "output_type": "execute_result"
    }
   ],
   "source": [
    "texts"
   ]
  },
  {
   "cell_type": "code",
   "execution_count": 27,
   "id": "39118295-b6b0-47e8-b843-4e5bb0bd6d07",
   "metadata": {},
   "outputs": [],
   "source": [
    "from urllib.request import urlopen\n",
    "from bs4 import BeautifulSoup\n",
    "\n",
    "texts = []\n",
    "\n",
    "for n in range(0, 10):\n",
    "    newurl = ('https://search.naver.com/search.naver?where=news&sm=tab_pge&query=%EB%89%B4%EC%A7%84%EC%8A%A4&nso=so:dd,p:1m,a:all&start=' + str(n * 10 + 1))\n",
    "    html = urlopen(newurl)\n",
    "    bsObject = BeautifulSoup(html, \"html.parser\")\n",
    "    ul = bsObject.select_one('ul.list_news')\n",
    "    \n",
    "    for i in range(1, 20):  # number of articles viewable per page\n",
    "        titles = ul.select('#sp_nws_' + str(i + n * 10) + ' > div > div > a')\n",
    "        for title in titles:\n",
    "            texts.append(title.get_text())\n",
    "\n",
    "# Print the extracted text\n",
    "for text in texts:\n",
    "    print(text)\n"
   ]
  },
  {
   "cell_type": "code",
   "execution_count": 28,
   "id": "701b96f0-cdad-40c3-90c8-fdc34c148e2b",
   "metadata": {},
   "outputs": [
    {
     "data": {
      "text/plain": [
       "['포레스텔라와 라포엠, 크로스오버 그룹의 절정급 인기…Kpop스타 아성 넘었다',\n",
       " \"제로 음료업계 '2차전' 시작..이색 마케팅 총력전\",\n",
       " '[셀럽이슈] 블랙핑크 팬들, 지수 두 번째 순서에…불만 댓글 도배',\n",
       " '임영웅, 5월 가수 브랜드평판 1위…2위 BTS·세븐틴·블랙핑크·뉴진스 순',\n",
       " '롯데百, 빨라진 더위에 한달 일찍 여름휴가 행사 연다',\n",
       " '롯데百, 6월 바캉스 행사 진행',\n",
       " '롯데백화점, 이른 무더위·휴가철에 6월초 바캉스 행사',\n",
       " '“김연아보다 뒤?” 블랙핑크 지수 팬 분노 이유는?',\n",
       " '뉴진스 데뷔 후 가장 마음에 들었던 혜인의 스타일링은? | VOGUE MEETS',\n",
       " \"'빨라진 더위, 휴가도 일찍'…롯데百, 6월초부터 바캉스 행사 진행\"]"
      ]
     },
     "execution_count": 28,
     "metadata": {},
     "output_type": "execute_result"
    }
   ],
   "source": [
    "text"
   ]
  },
  {
   "cell_type": "code",
   "execution_count": 108,
   "id": "d16fa4b2-393a-4c91-80eb-1eb901dad6d2",
   "metadata": {},
   "outputs": [
    {
     "name": "stdout",
     "output_type": "stream",
     "text": [
      "[1, 2, 3, 4, 5, 6, 7, 8, 9, 10]\n",
      "1\n",
      "  광마회귀   JP, 이히    선호도 77%  \n",
      "2\n",
      "  시한부 천재 암흑기사   정선율, 나기    선호도 77%  \n",
      "3\n",
      "  야매 힐러로 사는 법   14획, 나옌    선호도 76%  \n",
      "4\n",
      "  나노마신   현절무, 금강불괴    선호도 76%  \n",
      "5\n",
      "  신과함께 돌아온 기사왕님   지대공마법소년, 전천후마검사    선호도 75%  \n",
      "6\n",
      "  전지적 독자 시점   UMI, 슬리피-C    선호도 74%  \n",
      "7\n",
      "  66666년 만에 환생한 흑마법사   팀 더 지크, 파사    선호도 74%  \n",
      "8\n",
      "  일타강사 백사부   팀 더 지크, 오리보리    선호도 73%  \n",
      "9\n",
      "  마도전생기   포스스튜디오    선호도 73%  \n",
      "10\n",
      "  투신전생기   청담    선호도 73%  \n",
      "['광마회귀', '시한부 천재 암흑기사', '야매 힐러로 사는 법', '나노마신', '신과함께 돌아온 기사왕님', '전지적 독자 시점', '66666년 만에 환생한 흑마법사', '일타강사 백사부', '마도전생기', '투신전생기']\n",
      "['JP, 이히', '정선율, 나기', '14획, 나옌', '현절무, 금강불괴', '지대공마법소년, 전천후마검사', 'UMI, 슬리피-C', '팀 더 지크, 파사', '팀 더 지크, 오리보리', '포스스튜디오', '청담']\n",
      "['선호도 77%', '선호도 77%', '선호도 76%', '선호도 76%', '선호도 75%', '선호도 74%', '선호도 74%', '선호도 73%', '선호도 73%', '선호도 73%']\n"
     ]
    }
   ],
   "source": [
    "import pandas as pd\n",
    "from urllib.request import urlopen\n",
    "from bs4 import BeautifulSoup\n",
    "\n",
    "text_list = [] \n",
    "num_list = [] #작품의 순위\n",
    "name_list = []# 작품명\n",
    "writers_list = [] #작품에 참여한 작가들\n",
    "prefer_list = [] #작품의 선호도\n",
    "\n",
    "newurl = 'https://search.naver.com/search.naver?where=nexearch&sm=tab_etc&mra=bjQz&pkid=47&os=18090941&qvt=0&query=%ED%99%94%EC%82%B0%EA%B7%80%ED%99%98'\n",
    "html = urlopen(newurl)\n",
    "bsObject = BeautifulSoup(html, \"html.parser\")\n",
    "for span in bsObject.find_all('span', class_ ='this_text'):\n",
    "    try:\n",
    "        numbers = int(span.text)\n",
    "        num_list.append(numbers)\n",
    "    except ValueError:\n",
    "        pass\n",
    "print(num_list)\n",
    "\n",
    "for n in range(1, 11):\n",
    "    print(n)\n",
    "    titles = bsObject.select('#main_pack > div.sc_new.cs_common_module.case_normal._kgs_webtoon.color_1 > div.cm_content_wrap > div.cm_content_area._tab_base > div > div:nth-child(2) > div > div > div > ul > li:nth-child('+str(n)+') > div > div')\n",
    "    for title_box in titles:\n",
    "        print(title_box.get_text())\n",
    "        a = title_box.find('a',class_='_text')\n",
    "        name= a.text.strip()\n",
    "        name_list.append(name)\n",
    "        b = title_box.find('span', class_='sub_text')\n",
    "        writers = b.text.strip()\n",
    "        writers_list.append(writers)\n",
    "        c = title_box.find('span', class_='sub_text type_state')\n",
    "        prefer = c.text.strip()\n",
    "        prefer_list.append(prefer)\n",
    "print(name_list)\n",
    "print(writers_list)\n",
    "print(prefer_list)\n",
    "total_data = pd.DataFrame()\n",
    "total_data['순위'] = num_list\n",
    "total_data['웹툰명'] = name_list\n",
    "total_data['작가'] = writers_list\n",
    "total_data['선호도'] = prefer_list\n",
    "total_data.to_csv(\"화산귀환검색-독자가 함께보는 웹툰.csv\", index=False, encoding='utf-8-sig')"
   ]
  },
  {
   "cell_type": "code",
   "execution_count": null,
   "id": "c98d3617-9fd7-4a65-b61c-01bd154821dd",
   "metadata": {},
   "outputs": [],
   "source": []
  }
 ],
 "metadata": {
  "kernelspec": {
   "display_name": "Python 3 (ipykernel)",
   "language": "python",
   "name": "python3"
  },
  "language_info": {
   "codemirror_mode": {
    "name": "ipython",
    "version": 3
   },
   "file_extension": ".py",
   "mimetype": "text/x-python",
   "name": "python",
   "nbconvert_exporter": "python",
   "pygments_lexer": "ipython3",
   "version": "3.10.9"
  }
 },
 "nbformat": 4,
 "nbformat_minor": 5
}
